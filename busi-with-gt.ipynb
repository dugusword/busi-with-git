{
 "cells": [
  {
   "cell_type": "code",
   "execution_count": 2,
   "id": "de319697-3ec6-4cf6-9a5b-8f7df8764f2a",
   "metadata": {},
   "outputs": [],
   "source": [
    "from tensorflow import keras\n",
    "#import cv2\n",
    "from tensorflow.keras.preprocessing.image import load_img ,img_to_array\n",
    "import matplotlib.pyplot as plt\n",
    "from tensorflow.keras.models import Sequential \n",
    "from tensorflow.keras.layers import Conv2D\n",
    "from tensorflow.keras.layers import MaxPooling2D,AveragePooling2D,BatchNormalization\n",
    "from tensorflow.keras.layers import Dense,Activation\n",
    "from tensorflow.keras.layers import Flatten,Dropout,SpatialDropout2D\n",
    "from tensorflow.keras.optimizers import SGD\n",
    "from tensorflow.keras.optimizers import Adam\n",
    "import os\n",
    "import numpy as np\n",
    "import pandas as pd\n"
   ]
  },
  {
   "cell_type": "code",
   "execution_count": 3,
   "id": "36e8e6cd-828f-42af-8b98-12972d614158",
   "metadata": {},
   "outputs": [],
   "source": [
    "path = \"../imported_datasets/busi-with-gt/\"\n",
    "dir_list = [os.path.join(path,i) for i in os.listdir(path)]\n",
    "size_dict = {}\n",
    "for i,value in enumerate(dir_list):\n",
    "    size_dict[os.listdir(path)[i]] = len(os.listdir(value))\n",
    "size_dict \n",
    "\n",
    "import re\n",
    "def clean(name):\n",
    "    name = re.sub('[benign ().p]','',str(name))\n",
    "    return name"
   ]
  },
  {
   "cell_type": "code",
   "execution_count": 4,
   "id": "44d3077d-e55b-4537-a173-86fceb1f0f21",
   "metadata": {},
   "outputs": [
    {
     "name": "stdout",
     "output_type": "stream",
     "text": [
      "387\n"
     ]
    }
   ],
   "source": [
    "df = pd.DataFrame(os.listdir(dir_list[0]))\n",
    "# df = df.apply(str,axis=1)\n",
    "df = df[0].apply(clean)\n",
    "# print(df.info())\n",
    "df = df[~df.str.contains('mask',regex =False)]\n",
    "df = df.apply(int)\n",
    "df_list = list(df)\n",
    "type(df_list)\n",
    "df_list.sort()\n",
    "print(len(df_list))"
   ]
  },
  {
   "cell_type": "code",
   "execution_count": 5,
   "id": "f772df91-5a16-4dec-90a6-7db3fea70512",
   "metadata": {},
   "outputs": [],
   "source": [
    "img_size = 128\n",
    "img_channel = 3\n",
    "X_b , Xm_b , y_b = np.zeros((437,img_size,img_size,img_channel)) , np.zeros((437,img_size,img_size,img_channel)) , np.full(437,'benign') \n",
    "X_n , Xm_n , y_n = np.zeros((133,img_size,img_size,img_channel)) , np.zeros((133,img_size,img_size,img_channel)) , np.full(133,'normal') \n",
    "X_m , Xm_m , y_m = np.zeros((210,img_size,img_size,img_channel)) , np.zeros((210,img_size,img_size,img_channel)) , np.full(210,'malignant')\n"
   ]
  },
  {
   "cell_type": "code",
   "execution_count": 6,
   "id": "93f9f3f7-3726-49ed-96df-84d9ed3d08d2",
   "metadata": {},
   "outputs": [
    {
     "name": "stdout",
     "output_type": "stream",
     "text": [
      "(128, 128, 3)\n"
     ]
    }
   ],
   "source": [
    "import os\n",
    "img1_path = os.path.join(os.path.join(path,'benign'),os.listdir(os.path.join(path,'benign'))[1])\n",
    "\n",
    "pil_img = load_img(img1_path,color_mode = 'rgb',target_size=(img_size,img_size))\n",
    "img = img_to_array(pil_img)\n",
    "img_shape = img.shape\n",
    "print(img_shape)\n"
   ]
  },
  {
   "cell_type": "code",
   "execution_count": 7,
   "id": "9ab2e845-1e5b-4ac8-8b69-02091e53b626",
   "metadata": {},
   "outputs": [],
   "source": [
    "def img_num(filename):\n",
    "    \n",
    "    val = 0\n",
    "    \n",
    "    for i in range(len(filename)) :\n",
    "        if filename[i] == '(' :\n",
    "            while True :\n",
    "                i += 1\n",
    "                if filename[i] == ')' :\n",
    "                    break\n",
    "                val = (val*10) + int(filename[i])\n",
    "            break\n",
    "    \n",
    "    return val\n",
    "\n",
    "for tumor_path in dir_list :\n",
    "    for image in os.listdir(tumor_path) :\n",
    "        p = os.path.join(tumor_path, image)\n",
    "        pil_img = load_img(p,color_mode = 'rgb',target_size=(img_size,img_size))         # read image as  grayscale ans resize it\n",
    "        \n",
    "        if image[-5] == ')' :                                   #if real image \n",
    "            \n",
    "            if image[0] == 'b' :\n",
    "                X_b[img_num(image)-1]+= img_to_array(pil_img)  # If image is real add it\n",
    "            if image[0] == 'n' :                               # to X as benign , normal\n",
    "                X_n[img_num(image)-1]+= img_to_array(pil_img)  # or malignant.\n",
    "            if image[0] == 'm' :\n",
    "                X_m[img_num(image)-1]+= img_to_array(pil_img)\n",
    "        else :                                                 #else masked image\n",
    "            \n",
    "            if image[0] == 'b' :\n",
    "                Xm_b[img_num(image)-1]+= img_to_array(pil_img)  # Similarly add the target\n",
    "            if image[0] == 'n' :                               # mask to y.\n",
    "                Xm_n[img_num(image)-1]+= img_to_array(pil_img)\n",
    "            if image[0] == 'm' :\n",
    "                Xm_m[img_num(image)-1]+= img_to_array(pil_img)"
   ]
  },
  {
   "cell_type": "code",
   "execution_count": 8,
   "id": "09ed2609-9732-4d69-a216-ebeb668ca588",
   "metadata": {},
   "outputs": [
    {
     "name": "stdout",
     "output_type": "stream",
     "text": [
      "(780, 128, 128, 3)\n",
      "(780, 128, 128, 3)\n",
      "(780,)\n",
      "1.0\n",
      "0.0\n"
     ]
    }
   ],
   "source": [
    "X = np.concatenate((X_b, X_n, X_m), axis = 0)\n",
    "Xm = np.concatenate((Xm_b, Xm_n, Xm_m), axis = 0)\n",
    "y = np.concatenate((y_b, y_n, y_m), axis = 0)\n",
    "\n",
    "print(X.shape)\n",
    "print(Xm.shape)\n",
    "print(y.shape)\n",
    "X /= 255.0\n",
    "Xm /= 255.0\n",
    "\n",
    "print(X.max())\n",
    "print(Xm.min())"
   ]
  },
  {
   "cell_type": "code",
   "execution_count": 9,
   "id": "dc473700-218a-4390-83cd-d20bbd4c5cad",
   "metadata": {},
   "outputs": [
    {
     "name": "stdout",
     "output_type": "stream",
     "text": [
      "(663, 128, 128, 3) (117, 128, 128, 3)\n",
      "(663, 3) (117, 3)\n"
     ]
    }
   ],
   "source": [
    "from sklearn.model_selection import train_test_split\n",
    "from sklearn.preprocessing import OneHotEncoder\n",
    "\n",
    "encoder  = OneHotEncoder()\n",
    "# y = y.toarray()\n",
    "y=encoder.fit_transform(y.reshape(y.shape[0],1))\n",
    "\n",
    "X_train,X_test,y_train,y_test = train_test_split(X,y,test_size = 0.15,shuffle=True,random_state=42)\n",
    "Xm_train,Xm_test,ym_train,ym_test = train_test_split(Xm,y,test_size = 0.15,shuffle=True,random_state=42,stratify=y.toarray())\n",
    "\n",
    "class_list = encoder.categories_\n",
    "print(X_train.shape,X_test.shape)\n",
    "print(y_train.shape,y_test.shape)"
   ]
  },
  {
   "cell_type": "code",
   "execution_count": 10,
   "id": "ce2cc396-bdc3-4f79-958c-fe573bcb83f6",
   "metadata": {},
   "outputs": [],
   "source": [
    "from sklearn.metrics import f1_score,roc_auc_score,cohen_kappa_score\n",
    "def evaluation(model,X_train,y_train,X_val,y_val,X_test,y_test,history):\n",
    "    train_loss , train_acc = model.evaluate(X_train,y_train.toarray())\n",
    "    val_loss, val_acc = model.evaluate(X_val,y_val.toarray())\n",
    "    test_loss_value , test_accuracy = model.evaluate(X_test, y_test.toarray())\n",
    "    y_pred = model.predict(X_test)\n",
    "    y_pred_label = np.argmax(y_pred,axis=1)\n",
    "    y_true_label = np.argmax(y_test,axis=1)\n",
    "    f1_measure = f1_score(y_true_label,y_pred_label,average='weighted')\n",
    "    roc_score = roc_auc_score(y_test.toarray(),y_pred)\n",
    "    kappa_score = cohen_kappa_score(y_true_label,y_pred_label)\n",
    "    print(\"Train accuracy = \"+str(train_acc))\n",
    "    print(\"Validation accuracy = \"+str(val_acc))\n",
    "    print('Test accuracy = ' + str(test_accuracy))\n",
    "    print(\"f1_measure = \"+str(f1_measure))\n",
    "    print(\"KAPPA = \"+str(kappa_score))\n",
    "    print(\"roc_area = \"+str(roc_score))"
   ]
  },
  {
   "cell_type": "code",
   "execution_count": 11,
   "id": "ffeadcfb-1105-424d-b11b-ec970b69472c",
   "metadata": {},
   "outputs": [],
   "source": [
    "import tensorflow as tf\n",
    "from tensorflow.keras.callbacks import EarlyStopping, ModelCheckpoint\n",
    "\n",
    "\n",
    "def fit_evaluate(model,X_train,y_train,X_test,y_test,bs,Epochs,patience, cp_format):\n",
    "    es = EarlyStopping(monitor='val_loss', mode='min', patience=patience,restore_best_weights=True, verbose=1)\n",
    "    cp = ModelCheckpoint(filepath=cp_format, save_weights_only=True, verbose=1, save_freq=5*bs)\n",
    "    X1_train,X_val,y1_train,y_val = train_test_split(X_train,y_train,test_size=0.1,random_state=42,stratify = y_train.toarray())\n",
    "    history = model.fit(X1_train,y1_train.toarray(),batch_size = bs,epochs=Epochs,validation_data = (X_val,y_val.toarray()), callbacks=[es, cp])\n",
    "    evaluation(model,X1_train,y1_train,X_val,y_val,X_test,y_test,history)\n",
    "    Train_Val_Plot(history.history['acc'],history.history['val_acc'],history.history['loss'],history.history['val_loss'])"
   ]
  },
  {
   "cell_type": "code",
   "execution_count": 12,
   "id": "00cbc7b6-70f1-44eb-ba6e-18a79ffe4dfa",
   "metadata": {},
   "outputs": [
    {
     "name": "stderr",
     "output_type": "stream",
     "text": [
      "2022-06-24 07:46:35.705784: I tensorflow/core/platform/cpu_feature_guard.cc:151] This TensorFlow binary is optimized with oneAPI Deep Neural Network Library (oneDNN) to use the following CPU instructions in performance-critical operations:  AVX2 AVX512F FMA\n",
      "To enable them in other operations, rebuild TensorFlow with the appropriate compiler flags.\n",
      "2022-06-24 07:46:36.199227: I tensorflow/core/common_runtime/gpu/gpu_device.cc:1525] Created device /job:localhost/replica:0/task:0/device:GPU:0 with 79129 MB memory:  -> device: 0, name: A100-SXM-80GB, pci bus id: 0000:4f:00.0, compute capability: 8.0\n"
     ]
    }
   ],
   "source": [
    "import tensorflow as tf\n",
    "base_model = tf.keras.applications.ResNet50(\n",
    "                include_top=False,\n",
    "                weights=\"imagenet\",\n",
    "                input_tensor=None,\n",
    "                input_shape=img_shape,\n",
    "                pooling=None,\n",
    "            )\n",
    "for layer in base_model.layers:\n",
    "    layer.trainable = False\n",
    "    \n",
    "def resnet():\n",
    "    \n",
    "    model = Sequential()\n",
    "    model.add(base_model)\n",
    "    \n",
    "    model.add(Flatten())\n",
    "    model.add(BatchNormalization())\n",
    "    model.add(Dense(256,activation='relu'))\n",
    "    model.add(Dropout(0.5))\n",
    "    model.add(Dense(128,activation='relu'))\n",
    "    model.add(Dropout(0.5))\n",
    "    model.add(Dense(64,activation='relu'))\n",
    "    model.add(Dropout(0.5))\n",
    "    model.add(Dense(3,activation='softmax'))\n",
    "    \n",
    "    model.compile(optimizer='adam',loss='categorical_crossentropy',metrics=['acc'])\n",
    "    \n",
    "    return model"
   ]
  },
  {
   "cell_type": "code",
   "execution_count": 15,
   "id": "7f3f5b8d-111a-4f68-83ed-abe3e0503993",
   "metadata": {},
   "outputs": [
    {
     "name": "stdout",
     "output_type": "stream",
     "text": [
      "Model: \"sequential_2\"\n",
      "_________________________________________________________________\n",
      " Layer (type)                Output Shape              Param #   \n",
      "=================================================================\n",
      " resnet50 (Functional)       (None, 4, 4, 2048)        23587712  \n",
      "                                                                 \n",
      " flatten_2 (Flatten)         (None, 32768)             0         \n",
      "                                                                 \n",
      " batch_normalization_2 (Batc  (None, 32768)            131072    \n",
      " hNormalization)                                                 \n",
      "                                                                 \n",
      " dense_8 (Dense)             (None, 256)               8388864   \n",
      "                                                                 \n",
      " dropout_6 (Dropout)         (None, 256)               0         \n",
      "                                                                 \n",
      " dense_9 (Dense)             (None, 128)               32896     \n",
      "                                                                 \n",
      " dropout_7 (Dropout)         (None, 128)               0         \n",
      "                                                                 \n",
      " dense_10 (Dense)            (None, 64)                8256      \n",
      "                                                                 \n",
      " dropout_8 (Dropout)         (None, 64)                0         \n",
      "                                                                 \n",
      " dense_11 (Dense)            (None, 3)                 195       \n",
      "                                                                 \n",
      "=================================================================\n",
      "Total params: 32,148,995\n",
      "Trainable params: 8,495,747\n",
      "Non-trainable params: 23,653,248\n",
      "_________________________________________________________________\n",
      "Epoch 1/3000\n",
      "38/38 [==============================] - 3s 35ms/step - loss: 1.0674 - acc: 0.5386 - val_loss: 1.4437 - val_acc: 0.5672\n",
      "Epoch 2/3000\n",
      "38/38 [==============================] - 1s 13ms/step - loss: 0.9986 - acc: 0.5235 - val_loss: 2.1789 - val_acc: 0.5672\n",
      "Epoch 3/3000\n",
      " 1/38 [..............................] - ETA: 0s - loss: 0.5891 - acc: 0.7500\n",
      "Epoch 00003: saving model to ./checkpoints-raw/cp-0003/model.ckpt\n",
      "38/38 [==============================] - 1s 37ms/step - loss: 0.9805 - acc: 0.5688 - val_loss: 1.6649 - val_acc: 0.5672\n",
      "Epoch 4/3000\n",
      "38/38 [==============================] - 1s 16ms/step - loss: 0.8448 - acc: 0.6158 - val_loss: 1.2812 - val_acc: 0.5672\n",
      "Epoch 5/3000\n",
      " 6/38 [===>..........................] - ETA: 0s - loss: 0.7514 - acc: 0.6042\n",
      "Epoch 00005: saving model to ./checkpoints-raw/cp-0005/model.ckpt\n",
      "38/38 [==============================] - 2s 41ms/step - loss: 0.8404 - acc: 0.6158 - val_loss: 0.9752 - val_acc: 0.5672\n",
      "Epoch 6/3000\n",
      "38/38 [==============================] - 1s 15ms/step - loss: 0.7908 - acc: 0.6544 - val_loss: 0.9930 - val_acc: 0.5672\n",
      "Epoch 7/3000\n",
      " 9/38 [======>.......................] - ETA: 0s - loss: 0.7345 - acc: 0.6667\n",
      "Epoch 00007: saving model to ./checkpoints-raw/cp-0007/model.ckpt\n",
      "38/38 [==============================] - 2s 50ms/step - loss: 0.7719 - acc: 0.6326 - val_loss: 0.8641 - val_acc: 0.6119\n",
      "Epoch 8/3000\n",
      "38/38 [==============================] - 1s 17ms/step - loss: 0.7641 - acc: 0.6577 - val_loss: 0.8588 - val_acc: 0.5970\n",
      "Epoch 9/3000\n",
      "14/38 [==========>...................] - ETA: 0s - loss: 0.7544 - acc: 0.6518\n",
      "Epoch 00009: saving model to ./checkpoints-raw/cp-0009/model.ckpt\n",
      "38/38 [==============================] - 1s 38ms/step - loss: 0.7442 - acc: 0.6628 - val_loss: 0.8465 - val_acc: 0.6269\n",
      "Epoch 10/3000\n",
      "38/38 [==============================] - 1s 14ms/step - loss: 0.7196 - acc: 0.6711 - val_loss: 0.8780 - val_acc: 0.6119\n",
      "Epoch 11/3000\n",
      "16/38 [===========>..................] - ETA: 0s - loss: 0.7373 - acc: 0.6562\n",
      "Epoch 00011: saving model to ./checkpoints-raw/cp-0011/model.ckpt\n",
      "38/38 [==============================] - 1s 37ms/step - loss: 0.7021 - acc: 0.6644 - val_loss: 0.8054 - val_acc: 0.6418\n",
      "Epoch 12/3000\n",
      "38/38 [==============================] - 1s 17ms/step - loss: 0.6505 - acc: 0.7047 - val_loss: 0.7896 - val_acc: 0.6269\n",
      "Epoch 13/3000\n",
      "22/38 [================>.............] - ETA: 0s - loss: 0.6480 - acc: 0.6562\n",
      "Epoch 00013: saving model to ./checkpoints-raw/cp-0013/model.ckpt\n",
      "38/38 [==============================] - 2s 41ms/step - loss: 0.6599 - acc: 0.6896 - val_loss: 0.7620 - val_acc: 0.7313\n",
      "Epoch 14/3000\n",
      "38/38 [==============================] - 1s 16ms/step - loss: 0.6083 - acc: 0.7131 - val_loss: 0.7582 - val_acc: 0.7015\n",
      "Epoch 15/3000\n",
      "23/38 [=================>............] - ETA: 0s - loss: 0.5903 - acc: 0.7255\n",
      "Epoch 00015: saving model to ./checkpoints-raw/cp-0015/model.ckpt\n",
      "38/38 [==============================] - 1s 37ms/step - loss: 0.6023 - acc: 0.7181 - val_loss: 0.8251 - val_acc: 0.6418\n",
      "Epoch 16/3000\n",
      "38/38 [==============================] - 1s 15ms/step - loss: 0.5999 - acc: 0.7215 - val_loss: 0.7142 - val_acc: 0.7015\n",
      "Epoch 17/3000\n",
      "30/38 [======================>.......] - ETA: 0s - loss: 0.6086 - acc: 0.7333\n",
      "Epoch 00017: saving model to ./checkpoints-raw/cp-0017/model.ckpt\n",
      "38/38 [==============================] - 2s 43ms/step - loss: 0.6047 - acc: 0.7282 - val_loss: 0.8024 - val_acc: 0.5970\n",
      "Epoch 18/3000\n",
      "38/38 [==============================] - 1s 14ms/step - loss: 0.5817 - acc: 0.7483 - val_loss: 0.7845 - val_acc: 0.6418\n",
      "Epoch 19/3000\n",
      "31/38 [=======================>......] - ETA: 0s - loss: 0.4801 - acc: 0.7681\n",
      "Epoch 00019: saving model to ./checkpoints-raw/cp-0019/model.ckpt\n",
      "38/38 [==============================] - 1s 38ms/step - loss: 0.4919 - acc: 0.7584 - val_loss: 0.7802 - val_acc: 0.6269\n",
      "Epoch 20/3000\n",
      "35/38 [==========================>...] - ETA: 0s - loss: 0.5729 - acc: 0.7393Restoring model weights from the end of the best epoch: 16.\n",
      "38/38 [==============================] - 1s 17ms/step - loss: 0.5813 - acc: 0.7366 - val_loss: 0.7215 - val_acc: 0.6567\n",
      "Epoch 00020: early stopping\n",
      "19/19 [==============================] - 0s 11ms/step - loss: 0.4177 - acc: 0.8205\n",
      "3/3 [==============================] - 0s 10ms/step - loss: 0.7127 - acc: 0.7015\n",
      "4/4 [==============================] - 0s 11ms/step - loss: 0.8141 - acc: 0.6496\n",
      "Train accuracy = 0.8204697966575623\n",
      "Validation accuracy = 0.7014925479888916\n",
      "Test accuracy = 0.6495726704597473\n",
      "f1_measure = 0.647536694375102\n",
      "KAPPA = 0.43035268970431073\n",
      "roc_area = 0.8353923939515623\n"
     ]
    },
    {
     "data": {
      "image/png": "[encoded data removed]",
      "text/plain": [
       "<Figure size 720x360 with 2 Axes>"
      ]
     },
     "metadata": {
      "needs_background": "light"
     },
     "output_type": "display_data"
    },
    {
     "name": "stdout",
     "output_type": "stream",
     "text": [
      "Model: \"sequential_3\"\n",
      "_________________________________________________________________\n",
      " Layer (type)                Output Shape              Param #   \n",
      "=================================================================\n",
      " resnet50 (Functional)       (None, 4, 4, 2048)        23587712  \n",
      "                                                                 \n",
      " flatten_3 (Flatten)         (None, 32768)             0         \n",
      "                                                                 \n",
      " batch_normalization_3 (Batc  (None, 32768)            131072    \n",
      " hNormalization)                                                 \n",
      "                                                                 \n",
      " dense_12 (Dense)            (None, 256)               8388864   \n",
      "                                                                 \n",
      " dropout_9 (Dropout)         (None, 256)               0         \n",
      "                                                                 \n",
      " dense_13 (Dense)            (None, 128)               32896     \n",
      "                                                                 \n",
      " dropout_10 (Dropout)        (None, 128)               0         \n",
      "                                                                 \n",
      " dense_14 (Dense)            (None, 64)                8256      \n",
      "                                                                 \n",
      " dropout_11 (Dropout)        (None, 64)                0         \n",
      "                                                                 \n",
      " dense_15 (Dense)            (None, 3)                 195       \n",
      "                                                                 \n",
      "=================================================================\n",
      "Total params: 32,148,995\n",
      "Trainable params: 8,495,747\n",
      "Non-trainable params: 23,653,248\n",
      "_________________________________________________________________\n",
      "Epoch 1/3000\n",
      "38/38 [==============================] - 3s 35ms/step - loss: 1.1281 - acc: 0.5084 - val_loss: 0.9209 - val_acc: 0.5970\n",
      "Epoch 2/3000\n",
      "38/38 [==============================] - 1s 15ms/step - loss: 0.8732 - acc: 0.6544 - val_loss: 0.8803 - val_acc: 0.6119\n",
      "Epoch 3/3000\n",
      " 1/38 [..............................] - ETA: 0s - loss: 0.5353 - acc: 0.8125\n",
      "Epoch 00003: saving model to ./checkpoints-mask/cp-0003/model.ckpt\n",
      "38/38 [==============================] - 2s 45ms/step - loss: 0.8194 - acc: 0.6695 - val_loss: 0.7270 - val_acc: 0.6418\n",
      "Epoch 4/3000\n",
      "38/38 [==============================] - 1s 16ms/step - loss: 0.7369 - acc: 0.6862 - val_loss: 0.6747 - val_acc: 0.6567\n",
      "Epoch 5/3000\n",
      " 6/38 [===>..........................] - ETA: 0s - loss: 0.6357 - acc: 0.6979\n",
      "Epoch 00005: saving model to ./checkpoints-mask/cp-0005/model.ckpt\n",
      "38/38 [==============================] - 2s 45ms/step - loss: 0.6761 - acc: 0.6946 - val_loss: 0.7557 - val_acc: 0.6567\n",
      "Epoch 6/3000\n",
      "38/38 [==============================] - 1s 15ms/step - loss: 0.6217 - acc: 0.7349 - val_loss: 0.6066 - val_acc: 0.6716\n",
      "Epoch 7/3000\n",
      "11/38 [=======>......................] - ETA: 0s - loss: 0.6011 - acc: 0.7273\n",
      "Epoch 00007: saving model to ./checkpoints-mask/cp-0007/model.ckpt\n",
      "38/38 [==============================] - 1s 34ms/step - loss: 0.6071 - acc: 0.7332 - val_loss: 0.5663 - val_acc: 0.7313\n",
      "Epoch 8/3000\n",
      "38/38 [==============================] - 1s 15ms/step - loss: 0.5523 - acc: 0.7802 - val_loss: 0.5591 - val_acc: 0.7463\n",
      "Epoch 9/3000\n",
      "11/38 [=======>......................] - ETA: 0s - loss: 0.5142 - acc: 0.7841\n",
      "Epoch 00009: saving model to ./checkpoints-mask/cp-0009/model.ckpt\n",
      "38/38 [==============================] - 1s 34ms/step - loss: 0.5002 - acc: 0.7785 - val_loss: 0.6229 - val_acc: 0.7463\n",
      "Epoch 10/3000\n",
      "38/38 [==============================] - 1s 14ms/step - loss: 0.5285 - acc: 0.7785 - val_loss: 0.6157 - val_acc: 0.7313\n",
      "Epoch 11/3000\n",
      "17/38 [============>.................] - ETA: 0s - loss: 0.5067 - acc: 0.7868\n",
      "Epoch 00011: saving model to ./checkpoints-mask/cp-0011/model.ckpt\n",
      "38/38 [==============================] - 2s 51ms/step - loss: 0.4656 - acc: 0.8020 - val_loss: 0.6127 - val_acc: 0.7612\n",
      "Epoch 12/3000\n",
      "34/38 [=========================>....] - ETA: 0s - loss: 0.4594 - acc: 0.7868Restoring model weights from the end of the best epoch: 8.\n",
      "38/38 [==============================] - 1s 17ms/step - loss: 0.4956 - acc: 0.7852 - val_loss: 0.5856 - val_acc: 0.7612\n",
      "Epoch 00012: early stopping\n",
      "19/19 [==============================] - 0s 11ms/step - loss: 0.3911 - acc: 0.8540\n",
      "3/3 [==============================] - 0s 10ms/step - loss: 0.5597 - acc: 0.7463\n",
      "4/4 [==============================] - 0s 11ms/step - loss: 0.4033 - acc: 0.8547\n",
      "Train accuracy = 0.8540268540382385\n",
      "Validation accuracy = 0.746268630027771\n",
      "Test accuracy = 0.8547008633613586\n",
      "f1_measure = 0.8611164558711729\n",
      "KAPPA = 0.7620813397129187\n",
      "roc_area = 0.9497708048628565\n"
     ]
    },
    {
     "data": {
      "image/png": "[encoded data removed]",
      "text/plain": [
       "<Figure size 720x360 with 2 Axes>"
      ]
     },
     "metadata": {
      "needs_background": "light"
     },
     "output_type": "display_data"
    }
   ],
   "source": [
    "def Train_Val_Plot(accuracy,val_accuracy,loss,val_loss):\n",
    "    \n",
    "    fig, (ax1, ax2) = plt.subplots(1,2, figsize= (10,5))\n",
    "    fig.suptitle(\" MODEL'S METRICS VISUALIZATION \")\n",
    "\n",
    "    ax1.plot(range(1, len(accuracy) + 1), accuracy)\n",
    "    ax1.plot(range(1, len(val_accuracy) + 1), val_accuracy)\n",
    "    ax1.set_title('History of Accuracy')\n",
    "    ax1.set_xlabel('Epochs')\n",
    "    ax1.set_ylabel('Accuracy')\n",
    "    ax1.legend(['training', 'validation'])\n",
    "\n",
    "\n",
    "    ax2.plot(range(1, len(loss) + 1), loss)\n",
    "    ax2.plot(range(1, len(val_loss) + 1), val_loss)\n",
    "    ax2.set_title('History of Loss')\n",
    "    ax2.set_xlabel('Epochs')\n",
    "    ax2.set_ylabel('Loss')\n",
    "    ax2.legend(['training', 'validation'])\n",
    "    \n",
    "  \n",
    "\n",
    "    plt.show()\n",
    "\n",
    "model = resnet()\n",
    "model.summary()\n",
    "fit_evaluate(model,X_train,y_train,X_test,y_test,16,3000,4, \"./checkpoints-raw/cp-{epoch:04d}/model.ckpt\")\n",
    "\n",
    "model = resnet()\n",
    "model.summary()\n",
    "fit_evaluate(model,Xm_train,ym_train,Xm_test,ym_test,16,3000,4, \"./checkpoints-mask/cp-{epoch:04d}/model.ckpt\")"
   ]
  },
  {
   "cell_type": "code",
   "execution_count": 16,
   "id": "7e418239-6056-47e6-a846-fe376d7aee4f",
   "metadata": {},
   "outputs": [
    {
     "name": "stdout",
     "output_type": "stream",
     "text": [
      "Evaluate on test data\n",
      "4/4 [==============================] - 0s 12ms/step - loss: 1.1117 - acc: 0.2308\n",
      "Test accuracy = 0.23076923191547394\n",
      "f1_measure = 0.14042931455866778\n",
      "KAPPA = 0.03703703703703709\n",
      "roc_area = 0.5587777169827525\n"
     ]
    }
   ],
   "source": [
    "def evaluate(model,X_test,y_test):\n",
    "    test_loss_value , test_accuracy = model.evaluate(X_test, y_test.toarray())\n",
    "    y_pred = model.predict(X_test)\n",
    "    y_pred_label = np.argmax(y_pred,axis=1)\n",
    "    y_true_label = np.argmax(y_test,axis=1)\n",
    "    f1_measure = f1_score(y_true_label,y_pred_label,average='weighted')\n",
    "    roc_score = roc_auc_score(y_test.toarray(),y_pred)\n",
    "    kappa_score = cohen_kappa_score(y_true_label,y_pred_label)\n",
    "    print('Test accuracy = ' + str(test_accuracy))\n",
    "    print(\"f1_measure = \"+str(f1_measure))\n",
    "    print(\"KAPPA = \"+str(kappa_score))\n",
    "    print(\"roc_area = \"+str(roc_score))\n",
    "    \n",
    "from PIL import Image\n",
    "img = Image.open('../data/Dataset_BUSI_with_GT/test/malignant/malignant (161).png')\n",
    "img = np.asarray(img.resize((128,128), Image.ANTIALIAS))\n",
    "img = np.reshape(img,[1,128,128,3])\n",
    "\n",
    "# Evaluate the model on the test data using `evaluate`\n",
    "print(\"Evaluate on test data\")\n",
    "evaluate(model, X_test, y_test)"
   ]
  },
  {
   "cell_type": "code",
   "execution_count": null,
   "id": "4db34f3b-d502-4d60-9765-98e782d285ba",
   "metadata": {},
   "outputs": [],
   "source": []
  }
 ],
 "metadata": {
  "kernelspec": {
   "display_name": "Python 3 (ipykernel)",
   "language": "python",
   "name": "python3"
  },
  "language_info": {
   "codemirror_mode": {
    "name": "ipython",
    "version": 3
   },
   "file_extension": ".py",
   "mimetype": "text/x-python",
   "name": "python",
   "nbconvert_exporter": "python",
   "pygments_lexer": "ipython3",
   "version": "3.8.10"
  }
 },
 "nbformat": 4,
 "nbformat_minor": 5
}
